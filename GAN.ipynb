{
  "nbformat": 4,
  "nbformat_minor": 0,
  "metadata": {
    "kernelspec": {
      "display_name": "Python 3",
      "language": "python",
      "name": "python3"
    },
    "language_info": {
      "codemirror_mode": {
        "name": "ipython",
        "version": 3
      },
      "file_extension": ".py",
      "mimetype": "text/x-python",
      "name": "python",
      "nbconvert_exporter": "python",
      "pygments_lexer": "ipython3",
      "version": "3.8.3"
    },
    "colab": {
      "name": "GAN.ipynb",
      "provenance": [],
      "include_colab_link": true
    },
    "accelerator": "GPU"
  },
  "cells": [
    {
      "cell_type": "markdown",
      "metadata": {
        "id": "view-in-github",
        "colab_type": "text"
      },
      "source": [
        "<a href=\"https://colab.research.google.com/github/adewoleopeyemi/Generative-Adversarial-Network/blob/colab-build-version1/GAN.ipynb\" target=\"_parent\"><img src=\"https://colab.research.google.com/assets/colab-badge.svg\" alt=\"Open In Colab\"/></a>"
      ]
    },
    {
      "cell_type": "code",
      "metadata": {
        "id": "rGL4REOgMppL",
        "colab_type": "code",
        "colab": {}
      },
      "source": [
        "from keras.datasets import cifar100\n",
        "(train_x, train_y), (testx, testy)= cifar100.load_data()"
      ],
      "execution_count": 1,
      "outputs": []
    },
    {
      "cell_type": "code",
      "metadata": {
        "id": "yBa5l10LYccM",
        "colab_type": "code",
        "colab": {}
      },
      "source": [
        "import numpy as np\n",
        "\n",
        "data = np.asarray(train_x, dtype = 'float32')\n",
        "data = data/255."
      ],
      "execution_count": 2,
      "outputs": []
    },
    {
      "cell_type": "code",
      "metadata": {
        "id": "VUpZZbpbbvZW",
        "colab_type": "code",
        "colab": {
          "base_uri": "https://localhost:8080/",
          "height": 283
        },
        "outputId": "f1e9dd4d-be29-4332-d681-645a650655cb"
      },
      "source": [
        "import matplotlib.pyplot as plt\n",
        "plt.imshow(data[1])\n",
        "print(data.shape)"
      ],
      "execution_count": 3,
      "outputs": [
        {
          "output_type": "stream",
          "text": [
            "(50000, 32, 32, 3)\n"
          ],
          "name": "stdout"
        },
        {
          "output_type": "display_data",
          "data": {
            "image/png": "[encoded data removed]",
            "text/plain": [
              "<Figure size 432x288 with 1 Axes>"
            ]
          },
          "metadata": {
            "tags": [],
            "needs_background": "light"
          }
        }
      ]
    },
    {
      "cell_type": "code",
      "metadata": {
        "id": "VutsAfz7Mppj",
        "colab_type": "code",
        "colab": {}
      },
      "source": [
        "import tensorflow as tf\n",
        "keras = tf.keras\n",
        "\n",
        "layers = keras.layers\n",
        "Model = keras.models.Model\n",
        "Input = keras.Input"
      ],
      "execution_count": 4,
      "outputs": []
    },
    {
      "cell_type": "code",
      "metadata": {
        "id": "LNcPaz27Mpps",
        "colab_type": "code",
        "colab": {}
      },
      "source": [
        "discriminator_input = Input(shape = (32, 32, 3), name = 'discriminator_input')"
      ],
      "execution_count": 5,
      "outputs": []
    },
    {
      "cell_type": "code",
      "metadata": {
        "id": "Rt3eVuVvMpp1",
        "colab_type": "code",
        "colab": {}
      },
      "source": [
        "x = discriminator_input "
      ],
      "execution_count": 6,
      "outputs": []
    },
    {
      "cell_type": "code",
      "metadata": {
        "id": "S1R0KDfvMpp7",
        "colab_type": "code",
        "colab": {}
      },
      "source": [
        "filters = (64, 128, 128)\n",
        "kernel_size = (3, 3, 3)\n",
        "conv_strides =  (2, 2, 2)\n",
        "momentum = 0.02\n",
        "dropout = True\n",
        "dropout_rate = 0.5\n",
        "for i in range(3):\n",
        "    x = layers.Conv2D(\n",
        "    filters =  filters[i]\n",
        "    ,kernel_size = kernel_size[i]\n",
        "    ,strides = conv_strides[i]\n",
        "    ,padding = 'same', \n",
        "    name = 'discriminator_conv_' + str(i))(x)\n",
        "    x = layers.BatchNormalization(momentum=0.01)(x)\n",
        "        \n",
        "    x = layers.Activation('relu')(x)\n",
        "    x = layers.Dropout(rate=0.5)(x)\n",
        "            \n",
        "x = layers.Flatten()(x)\n",
        "discriminator_output = layers.Dense(1, activation = 'sigmoid')(x)\n",
        "    \n",
        "discriminator = Model(discriminator_input, discriminator_output)"
      ],
      "execution_count": 7,
      "outputs": []
    },
    {
      "cell_type": "code",
      "metadata": {
        "id": "yp4cC2vYMpqD",
        "colab_type": "code",
        "colab": {
          "base_uri": "https://localhost:8080/",
          "height": 663
        },
        "outputId": "d24c4ee1-bb16-433f-fedc-62c6cf19030e"
      },
      "source": [
        "discriminator.summary()"
      ],
      "execution_count": 8,
      "outputs": [
        {
          "output_type": "stream",
          "text": [
            "Model: \"functional_1\"\n",
            "_________________________________________________________________\n",
            "Layer (type)                 Output Shape              Param #   \n",
            "=================================================================\n",
            "discriminator_input (InputLa [(None, 32, 32, 3)]       0         \n",
            "_________________________________________________________________\n",
            "discriminator_conv_0 (Conv2D (None, 16, 16, 64)        1792      \n",
            "_________________________________________________________________\n",
            "batch_normalization (BatchNo (None, 16, 16, 64)        256       \n",
            "_________________________________________________________________\n",
            "activation (Activation)      (None, 16, 16, 64)        0         \n",
            "_________________________________________________________________\n",
            "dropout (Dropout)            (None, 16, 16, 64)        0         \n",
            "_________________________________________________________________\n",
            "discriminator_conv_1 (Conv2D (None, 8, 8, 128)         73856     \n",
            "_________________________________________________________________\n",
            "batch_normalization_1 (Batch (None, 8, 8, 128)         512       \n",
            "_________________________________________________________________\n",
            "activation_1 (Activation)    (None, 8, 8, 128)         0         \n",
            "_________________________________________________________________\n",
            "dropout_1 (Dropout)          (None, 8, 8, 128)         0         \n",
            "_________________________________________________________________\n",
            "discriminator_conv_2 (Conv2D (None, 4, 4, 128)         147584    \n",
            "_________________________________________________________________\n",
            "batch_normalization_2 (Batch (None, 4, 4, 128)         512       \n",
            "_________________________________________________________________\n",
            "activation_2 (Activation)    (None, 4, 4, 128)         0         \n",
            "_________________________________________________________________\n",
            "dropout_2 (Dropout)          (None, 4, 4, 128)         0         \n",
            "_________________________________________________________________\n",
            "flatten (Flatten)            (None, 2048)              0         \n",
            "_________________________________________________________________\n",
            "dense (Dense)                (None, 1)                 2049      \n",
            "=================================================================\n",
            "Total params: 226,561\n",
            "Trainable params: 225,921\n",
            "Non-trainable params: 640\n",
            "_________________________________________________________________\n"
          ],
          "name": "stdout"
        }
      ]
    },
    {
      "cell_type": "code",
      "metadata": {
        "id": "XtMTSqBFMpqL",
        "colab_type": "code",
        "colab": {}
      },
      "source": [
        "filters = (64, 128, 128,3)\n",
        "generator_input = Input(shape = (200,), name = \"generator_input\")\n",
        "x = generator_input\n",
        "x = layers.Dense(512)(x)\n",
        "\n",
        "x = layers.Activation('relu')(x)\n",
        "\n",
        "x = layers.Reshape((2, 2, 128))(x)\n",
        "for i in range(4):\n",
        "    x = layers.UpSampling2D()(x)\n",
        "    x = layers.Conv2D(\n",
        "    filters =  filters[i]\n",
        "    ,kernel_size = 3\n",
        "    ,strides = 1\n",
        "    ,padding = 'same')(x)\n",
        "    if i < 3:\n",
        "        x = layers.Activation('relu')(x)\n",
        "    else:\n",
        "        x = layers.Activation('tanh')(x)\n",
        "        \n",
        "generator_output = x\n",
        "generator = Model(generator_input, generator_output)"
      ],
      "execution_count": 9,
      "outputs": []
    },
    {
      "cell_type": "code",
      "metadata": {
        "id": "PGQT_556eCgw",
        "colab_type": "code",
        "colab": {
          "base_uri": "https://localhost:8080/",
          "height": 697
        },
        "outputId": "b6c597f1-de16-4f31-ba15-3bb14b3e8af4"
      },
      "source": [
        "generator.summary()"
      ],
      "execution_count": 10,
      "outputs": [
        {
          "output_type": "stream",
          "text": [
            "Model: \"functional_3\"\n",
            "_________________________________________________________________\n",
            "Layer (type)                 Output Shape              Param #   \n",
            "=================================================================\n",
            "generator_input (InputLayer) [(None, 200)]             0         \n",
            "_________________________________________________________________\n",
            "dense_1 (Dense)              (None, 512)               102912    \n",
            "_________________________________________________________________\n",
            "activation_3 (Activation)    (None, 512)               0         \n",
            "_________________________________________________________________\n",
            "reshape (Reshape)            (None, 2, 2, 128)         0         \n",
            "_________________________________________________________________\n",
            "up_sampling2d (UpSampling2D) (None, 4, 4, 128)         0         \n",
            "_________________________________________________________________\n",
            "conv2d (Conv2D)              (None, 4, 4, 64)          73792     \n",
            "_________________________________________________________________\n",
            "activation_4 (Activation)    (None, 4, 4, 64)          0         \n",
            "_________________________________________________________________\n",
            "up_sampling2d_1 (UpSampling2 (None, 8, 8, 64)          0         \n",
            "_________________________________________________________________\n",
            "conv2d_1 (Conv2D)            (None, 8, 8, 128)         73856     \n",
            "_________________________________________________________________\n",
            "activation_5 (Activation)    (None, 8, 8, 128)         0         \n",
            "_________________________________________________________________\n",
            "up_sampling2d_2 (UpSampling2 (None, 16, 16, 128)       0         \n",
            "_________________________________________________________________\n",
            "conv2d_2 (Conv2D)            (None, 16, 16, 128)       147584    \n",
            "_________________________________________________________________\n",
            "activation_6 (Activation)    (None, 16, 16, 128)       0         \n",
            "_________________________________________________________________\n",
            "up_sampling2d_3 (UpSampling2 (None, 32, 32, 128)       0         \n",
            "_________________________________________________________________\n",
            "conv2d_3 (Conv2D)            (None, 32, 32, 3)         3459      \n",
            "_________________________________________________________________\n",
            "activation_7 (Activation)    (None, 32, 32, 3)         0         \n",
            "=================================================================\n",
            "Total params: 401,603\n",
            "Trainable params: 401,603\n",
            "Non-trainable params: 0\n",
            "_________________________________________________________________\n"
          ],
          "name": "stdout"
        }
      ]
    },
    {
      "cell_type": "code",
      "metadata": {
        "id": "1BMZR3liMpqT",
        "colab_type": "code",
        "colab": {}
      },
      "source": [
        "\n",
        "discriminator.compile(optimizer = tf.keras.optimizers.RMSprop(lr = 0.008), \n",
        "                     loss = tf.keras.losses.binary_crossentropy,\n",
        "                     metrics = ['acc'])\n",
        "\n",
        "discriminator.trainable = False\n",
        "\n",
        "model_input = Input(shape = (200,), name = 'model_input')\n",
        "model_output = discriminator(generator(model_input))\n",
        "model = Model(model_input, model_output)\n",
        "\n",
        "model.compile(\n",
        "    optimizer = tf.keras.optimizers.RMSprop(lr = 0.0001), \n",
        "    loss = tf.keras.losses.binary_crossentropy,\n",
        "    metrics = ['acc']\n",
        ")"
      ],
      "execution_count": 11,
      "outputs": []
    },
    {
      "cell_type": "code",
      "metadata": {
        "id": "jbrM3qbYMpqZ",
        "colab_type": "code",
        "colab": {}
      },
      "source": [
        "def train_discriminator(x_train, batch_size):\n",
        "    valid = np.ones((batch_size, 1))\n",
        "    fake = np.zeros((batch_size, 1))\n",
        "    \n",
        "    # Train on real images\n",
        "    idx = np.random.randint(0, x_train.shape[0], batch_size)\n",
        "    true_imgs = x_train[idx]\n",
        "    discriminator.train_on_batch(true_imgs, valid)\n",
        "    \n",
        "    # Train on fake images\n",
        "    noise = np.random.randint(0, 1, (batch_size, 200))\n",
        "    gen_imgs = generator.predict(noise)\n",
        "    discriminator.train_on_batch(gen_imgs, fake)\n",
        "    \n",
        "def train_generator(batch_size):\n",
        "    valid = np.ones((batch_size, 1))\n",
        "    noise = np.random.normal(0, 1, (batch_size, 200))\n",
        "    model.train_on_batch(noise, valid)\n",
        "    \n",
        "    "
      ],
      "execution_count": 12,
      "outputs": []
    },
    {
      "cell_type": "code",
      "metadata": {
        "id": "tosyySULMpqf",
        "colab_type": "code",
        "colab": {
          "base_uri": "https://localhost:8080/",
          "height": 510
        },
        "outputId": "5d5d4dc4-0d5b-4a7d-a3f4-c2ee163045d7"
      },
      "source": [
        "epochs = 30000\n",
        "batch_size = 64\n",
        "\n",
        "for epoch in range(epochs):\n",
        "    train_discriminator(data, batch_size)\n",
        "    train_generator(batch_size)\n",
        "    if epoch%1000 == 0:\n",
        "      print('Epoch ', epoch, ' done')"
      ],
      "execution_count": 13,
      "outputs": [
        {
          "output_type": "stream",
          "text": [
            "Epoch  0  done\n",
            "Epoch  1000  done\n",
            "Epoch  3000  done\n",
            "Epoch  4000  done\n",
            "Epoch  5000  done\n",
            "Epoch  6000  done\n",
            "Epoch  7000  done\n",
            "Epoch  8000  done\n",
            "Epoch  9000  done\n",
            "Epoch  10000  done\n",
            "Epoch  11000  done\n",
            "Epoch  12000  done\n",
            "Epoch  13000  done\n",
            "Epoch  14000  done\n",
            "Epoch  15000  done\n",
            "Epoch  16000  done\n",
            "Epoch  17000  done\n",
            "Epoch  18000  done\n",
            "Epoch  19000  done\n",
            "Epoch  20000  done\n",
            "Epoch  21000  done\n",
            "Epoch  22000  done\n",
            "Epoch  23000  done\n",
            "Epoch  24000  done\n",
            "Epoch  25000  done\n",
            "Epoch  26000  done\n",
            "Epoch  27000  done\n",
            "Epoch  28000  done\n",
            "Epoch  29000  done\n"
          ],
          "name": "stdout"
        }
      ]
    },
    {
      "cell_type": "code",
      "metadata": {
        "id": "gFthm_RCMpqm",
        "colab_type": "code",
        "colab": {}
      },
      "source": [
        "noise = np.random.normal(0, 1, (1,200))"
      ],
      "execution_count": 14,
      "outputs": []
    },
    {
      "cell_type": "code",
      "metadata": {
        "id": "tFvdsy2OMpqt",
        "colab_type": "code",
        "colab": {
          "base_uri": "https://localhost:8080/",
          "height": 34
        },
        "outputId": "5f36a233-5d07-4593-e386-ba102aae12e7"
      },
      "source": [
        "len(noise)"
      ],
      "execution_count": 15,
      "outputs": [
        {
          "output_type": "execute_result",
          "data": {
            "text/plain": [
              "1"
            ]
          },
          "metadata": {
            "tags": []
          },
          "execution_count": 15
        }
      ]
    },
    {
      "cell_type": "code",
      "metadata": {
        "id": "6YkwxJfkUo50",
        "colab_type": "code",
        "colab": {}
      },
      "source": [
        "img = generator.predict(noise)"
      ],
      "execution_count": 16,
      "outputs": []
    },
    {
      "cell_type": "code",
      "metadata": {
        "id": "Dp-qgBPbUwVK",
        "colab_type": "code",
        "colab": {
          "base_uri": "https://localhost:8080/",
          "height": 300
        },
        "outputId": "dae2f63c-1157-458a-cdff-6968407acaa3"
      },
      "source": [
        "import matplotlib.pyplot as plt\n",
        "img = np.reshape(img, (32, 32, 3))\n",
        "plt.imshow(img)"
      ],
      "execution_count": 17,
      "outputs": [
        {
          "output_type": "stream",
          "text": [
            "Clipping input data to the valid range for imshow with RGB data ([0..1] for floats or [0..255] for integers).\n"
          ],
          "name": "stderr"
        },
        {
          "output_type": "execute_result",
          "data": {
            "text/plain": [
              "<matplotlib.image.AxesImage at 0x7f4abc039dd8>"
            ]
          },
          "metadata": {
            "tags": []
          },
          "execution_count": 17
        },
        {
          "output_type": "display_data",
          "data": {
            "image/png": "[encoded data removed]",
            "text/plain": [
              "<Figure size 432x288 with 1 Axes>"
            ]
          },
          "metadata": {
            "tags": [],
            "needs_background": "light"
          }
        }
      ]
    },
    {
      "cell_type": "code",
      "metadata": {
        "id": "QF3bVHMsV1oB",
        "colab_type": "code",
        "colab": {}
      },
      "source": [
        ""
      ],
      "execution_count": 17,
      "outputs": []
    }
  ]
}